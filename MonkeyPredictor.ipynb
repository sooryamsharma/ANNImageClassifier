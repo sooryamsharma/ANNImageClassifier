{
 "cells": [
  {
   "cell_type": "code",
   "execution_count": 1,
   "metadata": {},
   "outputs": [],
   "source": [
    "import math\n",
    "import h5py\n",
    "import os\n",
    "import pandas as pd\n",
    "import numpy as np\n",
    "import cv2\n",
    "import scipy\n",
    "from scipy import ndimage\n",
    "import matplotlib.pyplot as plt\n",
    "%matplotlib inline\n",
    "\n",
    "from skimage.io import imread \n",
    "from PIL import Image\n",
    "\n",
    "from sklearn.model_selection import train_test_split\n",
    "\n",
    "import tensorflow as tf\n",
    "from tensorflow.python.framework import ops\n",
    "\n",
    "from glob import glob\n",
    "np.random.seed(1)"
   ]
  },
  {
   "cell_type": "markdown",
   "metadata": {},
   "source": [
    "<br>\n",
    "\n",
    "*Reading Labels*"
   ]
  },
  {
   "cell_type": "code",
   "execution_count": 2,
   "metadata": {},
   "outputs": [],
   "source": [
    "train_dir = 'C:\\\\Users\\\\Suryam Sharma\\\\MonkeyIdentification\\\\monkeySpecies\\\\training\\\\'\n",
    "test_dir = 'C:\\\\Users\\\\Suryam Sharma\\\\MonkeyIdentification\\\\monkeySpecies\\\\validation\\\\'"
   ]
  },
  {
   "cell_type": "code",
   "execution_count": 3,
   "metadata": {},
   "outputs": [
    {
     "data": {
      "text/html": [
       "<div>\n",
       "<style scoped>\n",
       "    .dataframe tbody tr th:only-of-type {\n",
       "        vertical-align: middle;\n",
       "    }\n",
       "\n",
       "    .dataframe tbody tr th {\n",
       "        vertical-align: top;\n",
       "    }\n",
       "\n",
       "    .dataframe thead th {\n",
       "        text-align: right;\n",
       "    }\n",
       "</style>\n",
       "<table border=\"1\" class=\"dataframe\">\n",
       "  <thead>\n",
       "    <tr style=\"text-align: right;\">\n",
       "      <th></th>\n",
       "      <th>label</th>\n",
       "      <th>latinName</th>\n",
       "      <th>commonName</th>\n",
       "      <th>training_images</th>\n",
       "      <th>validation_images</th>\n",
       "    </tr>\n",
       "  </thead>\n",
       "  <tbody>\n",
       "    <tr>\n",
       "      <th>0</th>\n",
       "      <td>n0</td>\n",
       "      <td>alouatta_palliata\\t</td>\n",
       "      <td>mantled_howler</td>\n",
       "      <td>131</td>\n",
       "      <td>26</td>\n",
       "    </tr>\n",
       "    <tr>\n",
       "      <th>1</th>\n",
       "      <td>n1</td>\n",
       "      <td>erythrocebus_patas\\t</td>\n",
       "      <td>patas_monkey</td>\n",
       "      <td>139</td>\n",
       "      <td>28</td>\n",
       "    </tr>\n",
       "    <tr>\n",
       "      <th>2</th>\n",
       "      <td>n2</td>\n",
       "      <td>cacajao_calvus\\t</td>\n",
       "      <td>bald_uakari</td>\n",
       "      <td>137</td>\n",
       "      <td>27</td>\n",
       "    </tr>\n",
       "    <tr>\n",
       "      <th>3</th>\n",
       "      <td>n3</td>\n",
       "      <td>macaca_fuscata\\t</td>\n",
       "      <td>japanese_macaque</td>\n",
       "      <td>152</td>\n",
       "      <td>30</td>\n",
       "    </tr>\n",
       "    <tr>\n",
       "      <th>4</th>\n",
       "      <td>n4</td>\n",
       "      <td>cebuella_pygmea\\t</td>\n",
       "      <td>pygmy_marmoset</td>\n",
       "      <td>131</td>\n",
       "      <td>26</td>\n",
       "    </tr>\n",
       "    <tr>\n",
       "      <th>5</th>\n",
       "      <td>n5</td>\n",
       "      <td>cebus_capucinus\\t</td>\n",
       "      <td>white_headed_capuchin</td>\n",
       "      <td>141</td>\n",
       "      <td>28</td>\n",
       "    </tr>\n",
       "    <tr>\n",
       "      <th>6</th>\n",
       "      <td>n6</td>\n",
       "      <td>mico_argentatus\\t</td>\n",
       "      <td>silvery_marmoset</td>\n",
       "      <td>132</td>\n",
       "      <td>26</td>\n",
       "    </tr>\n",
       "    <tr>\n",
       "      <th>7</th>\n",
       "      <td>n7</td>\n",
       "      <td>saimiri_sciureus\\t</td>\n",
       "      <td>common_squirrel_monkey</td>\n",
       "      <td>142</td>\n",
       "      <td>28</td>\n",
       "    </tr>\n",
       "    <tr>\n",
       "      <th>8</th>\n",
       "      <td>n8</td>\n",
       "      <td>aotus_nigriceps\\t</td>\n",
       "      <td>black_headed_night_monkey</td>\n",
       "      <td>133</td>\n",
       "      <td>27</td>\n",
       "    </tr>\n",
       "    <tr>\n",
       "      <th>9</th>\n",
       "      <td>n9</td>\n",
       "      <td>trachypithecus_johnii</td>\n",
       "      <td>nilgiri_langur</td>\n",
       "      <td>132</td>\n",
       "      <td>26</td>\n",
       "    </tr>\n",
       "  </tbody>\n",
       "</table>\n",
       "</div>"
      ],
      "text/plain": [
       "   label                 latinName                       commonName  \\\n",
       "0  n0         alouatta_palliata\\t    mantled_howler                   \n",
       "1  n1        erythrocebus_patas\\t    patas_monkey                     \n",
       "2  n2        cacajao_calvus\\t        bald_uakari                      \n",
       "3  n3        macaca_fuscata\\t        japanese_macaque                 \n",
       "4  n4       cebuella_pygmea\\t        pygmy_marmoset                   \n",
       "5  n5       cebus_capucinus\\t        white_headed_capuchin            \n",
       "6  n6       mico_argentatus\\t        silvery_marmoset                 \n",
       "7  n7      saimiri_sciureus\\t        common_squirrel_monkey           \n",
       "8  n8       aotus_nigriceps\\t        black_headed_night_monkey        \n",
       "9  n9       trachypithecus_johnii    nilgiri_langur                   \n",
       "\n",
       "   training_images  validation_images  \n",
       "0              131                 26  \n",
       "1              139                 28  \n",
       "2              137                 27  \n",
       "3              152                 30  \n",
       "4              131                 26  \n",
       "5              141                 28  \n",
       "6              132                 26  \n",
       "7              142                 28  \n",
       "8              133                 27  \n",
       "9              132                 26  "
      ]
     },
     "execution_count": 3,
     "metadata": {},
     "output_type": "execute_result"
    }
   ],
   "source": [
    "cols = ['label','latinName', 'commonName','training_images', 'validation_images']\n",
    "labels = pd.read_csv(\"C:\\\\Users\\\\Suryam Sharma\\\\MonkeyIdentification\\\\monkeySpecies\\\\monkey_labels.txt\", names=cols, skiprows=1)\n",
    "labels"
   ]
  },
  {
   "cell_type": "markdown",
   "metadata": {},
   "source": [
    "<br>\n",
    "\n",
    "*Creating Data Frame for training*"
   ]
  },
  {
   "cell_type": "code",
   "execution_count": 4,
   "metadata": {},
   "outputs": [
    {
     "name": "stdout",
     "output_type": "stream",
     "text": [
      "C:\\Users\\Suryam Sharma\\MonkeyIdentification\\monkeySpecies\\training\\n0\\\n",
      "C:\\Users\\Suryam Sharma\\MonkeyIdentification\\monkeySpecies\\training\\n1\\\n",
      "C:\\Users\\Suryam Sharma\\MonkeyIdentification\\monkeySpecies\\training\\n2\\\n",
      "C:\\Users\\Suryam Sharma\\MonkeyIdentification\\monkeySpecies\\training\\n3\\\n",
      "C:\\Users\\Suryam Sharma\\MonkeyIdentification\\monkeySpecies\\training\\n4\\\n",
      "C:\\Users\\Suryam Sharma\\MonkeyIdentification\\monkeySpecies\\training\\n5\\\n",
      "C:\\Users\\Suryam Sharma\\MonkeyIdentification\\monkeySpecies\\training\\n6\\\n",
      "C:\\Users\\Suryam Sharma\\MonkeyIdentification\\monkeySpecies\\training\\n7\\\n",
      "C:\\Users\\Suryam Sharma\\MonkeyIdentification\\monkeySpecies\\training\\n8\\\n",
      "C:\\Users\\Suryam Sharma\\MonkeyIdentification\\monkeySpecies\\training\\n9\\\n"
     ]
    }
   ],
   "source": [
    "for idx, row in labels.iterrows():\n",
    "    path = train_dir+labels.label[idx].strip()+'\\\\'\n",
    "    print(path)"
   ]
  },
  {
   "cell_type": "code",
   "execution_count": 5,
   "metadata": {},
   "outputs": [],
   "source": [
    "col_names =  ['path']\n",
    "df_train  = pd.DataFrame(columns = col_names)\n",
    "for idx, row in labels.iterrows():\n",
    "    path = train_dir+labels.label[idx].strip()+'\\\\'\n",
    "    df_temp = pd.DataFrame({'path': glob(os.path.join(path, '*.jpg'))})\n",
    "    df_train = df_train.append(df_temp, ignore_index=True)\n",
    "df_train['id'] = df_train.path.map(lambda x: x.split(\"\\\\\")[7].split(\".\")[0])\n",
    "df_train['label'] = df_train.path.map(lambda x: x.split(\"\\\\\")[6].split(\"\\\\\")[0])\n",
    "#df_train['img'] = df_train['path'].map(imread)"
   ]
  },
  {
   "cell_type": "code",
   "execution_count": 6,
   "metadata": {},
   "outputs": [
    {
     "data": {
      "text/html": [
       "<div>\n",
       "<style scoped>\n",
       "    .dataframe tbody tr th:only-of-type {\n",
       "        vertical-align: middle;\n",
       "    }\n",
       "\n",
       "    .dataframe tbody tr th {\n",
       "        vertical-align: top;\n",
       "    }\n",
       "\n",
       "    .dataframe thead th {\n",
       "        text-align: right;\n",
       "    }\n",
       "</style>\n",
       "<table border=\"1\" class=\"dataframe\">\n",
       "  <thead>\n",
       "    <tr style=\"text-align: right;\">\n",
       "      <th></th>\n",
       "      <th>path</th>\n",
       "      <th>id</th>\n",
       "      <th>label</th>\n",
       "    </tr>\n",
       "  </thead>\n",
       "  <tbody>\n",
       "    <tr>\n",
       "      <th>0</th>\n",
       "      <td>C:\\Users\\Suryam Sharma\\MonkeyIdentification\\mo...</td>\n",
       "      <td>n0018</td>\n",
       "      <td>n0</td>\n",
       "    </tr>\n",
       "    <tr>\n",
       "      <th>1</th>\n",
       "      <td>C:\\Users\\Suryam Sharma\\MonkeyIdentification\\mo...</td>\n",
       "      <td>n0019</td>\n",
       "      <td>n0</td>\n",
       "    </tr>\n",
       "    <tr>\n",
       "      <th>2</th>\n",
       "      <td>C:\\Users\\Suryam Sharma\\MonkeyIdentification\\mo...</td>\n",
       "      <td>n0020</td>\n",
       "      <td>n0</td>\n",
       "    </tr>\n",
       "  </tbody>\n",
       "</table>\n",
       "</div>"
      ],
      "text/plain": [
       "                                                path     id label\n",
       "0  C:\\Users\\Suryam Sharma\\MonkeyIdentification\\mo...  n0018    n0\n",
       "1  C:\\Users\\Suryam Sharma\\MonkeyIdentification\\mo...  n0019    n0\n",
       "2  C:\\Users\\Suryam Sharma\\MonkeyIdentification\\mo...  n0020    n0"
      ]
     },
     "execution_count": 6,
     "metadata": {},
     "output_type": "execute_result"
    }
   ],
   "source": [
    "df_train.head(3)"
   ]
  },
  {
   "cell_type": "code",
   "execution_count": 7,
   "metadata": {},
   "outputs": [],
   "source": [
    "col_names =  ['path']\n",
    "df_test  = pd.DataFrame(columns = col_names)\n",
    "for idx, row in labels.iterrows():\n",
    "    path = test_dir+labels.label[idx].strip()+'\\\\'\n",
    "    df_temp = pd.DataFrame({'path': glob(os.path.join(path, '*.jpg'))})\n",
    "    df_test = df_test.append(df_temp, ignore_index=True)\n",
    "df_test['id'] = df_test.path.map(lambda x: x.split(\"\\\\\")[7].split(\".\")[0])\n",
    "df_test['label'] = df_test.path.map(lambda x: x.split(\"\\\\\")[6].split(\"\\\\\")[0])\n"
   ]
  },
  {
   "cell_type": "code",
   "execution_count": 8,
   "metadata": {},
   "outputs": [
    {
     "data": {
      "text/html": [
       "<div>\n",
       "<style scoped>\n",
       "    .dataframe tbody tr th:only-of-type {\n",
       "        vertical-align: middle;\n",
       "    }\n",
       "\n",
       "    .dataframe tbody tr th {\n",
       "        vertical-align: top;\n",
       "    }\n",
       "\n",
       "    .dataframe thead th {\n",
       "        text-align: right;\n",
       "    }\n",
       "</style>\n",
       "<table border=\"1\" class=\"dataframe\">\n",
       "  <thead>\n",
       "    <tr style=\"text-align: right;\">\n",
       "      <th></th>\n",
       "      <th>path</th>\n",
       "      <th>id</th>\n",
       "      <th>label</th>\n",
       "    </tr>\n",
       "  </thead>\n",
       "  <tbody>\n",
       "    <tr>\n",
       "      <th>0</th>\n",
       "      <td>C:\\Users\\Suryam Sharma\\MonkeyIdentification\\mo...</td>\n",
       "      <td>n000</td>\n",
       "      <td>n0</td>\n",
       "    </tr>\n",
       "    <tr>\n",
       "      <th>1</th>\n",
       "      <td>C:\\Users\\Suryam Sharma\\MonkeyIdentification\\mo...</td>\n",
       "      <td>n001</td>\n",
       "      <td>n0</td>\n",
       "    </tr>\n",
       "    <tr>\n",
       "      <th>2</th>\n",
       "      <td>C:\\Users\\Suryam Sharma\\MonkeyIdentification\\mo...</td>\n",
       "      <td>n0010</td>\n",
       "      <td>n0</td>\n",
       "    </tr>\n",
       "  </tbody>\n",
       "</table>\n",
       "</div>"
      ],
      "text/plain": [
       "                                                path     id label\n",
       "0  C:\\Users\\Suryam Sharma\\MonkeyIdentification\\mo...   n000    n0\n",
       "1  C:\\Users\\Suryam Sharma\\MonkeyIdentification\\mo...   n001    n0\n",
       "2  C:\\Users\\Suryam Sharma\\MonkeyIdentification\\mo...  n0010    n0"
      ]
     },
     "execution_count": 8,
     "metadata": {},
     "output_type": "execute_result"
    }
   ],
   "source": [
    "df_test.head(3)"
   ]
  },
  {
   "cell_type": "markdown",
   "metadata": {},
   "source": [
    "<br>\n",
    "\n",
    "*Since the images are of different sizes, we'll need to pre-process them, to make them suitable for training*<br><br>\n",
    "**Execute only once!!**\n",
    "<br><br>\n",
    "\n",
    "-----------------------------------------------------------------------------------------------------------------------------------------------"
   ]
  },
  {
   "cell_type": "code",
   "execution_count": null,
   "metadata": {},
   "outputs": [],
   "source": [
    "def augmentation(image, target_width=300, target_height=300, maxzoom = 0.2):\n",
    "    height = image.shape[0]\n",
    "    width = image.shape[1]\n",
    "    ratio = height / width\n",
    "    target_ratio = target_height / target_width\n",
    "    if ratio < target_ratio:\n",
    "        crop_width = width\n",
    "        crop_height = int(height/target_ratio)\n",
    "    else:\n",
    "        crop_width = int(width * target_ratio)\n",
    "        crop_height = height\n",
    "    ### zoom in the picture from 1x to (1 + maxzon)x\n",
    "    zoom_in_size = np.random.rand() * maxzoom + 1.0 \n",
    "    crop_width = int(crop_width/zoom_in_size)\n",
    "    crop_height = int(crop_height/zoom_in_size)\n",
    "    \n",
    "    ### randomly select the top-left point from 0 to width - crop_width\n",
    "    x0 = np.random.randint(0, width - crop_width)\n",
    "    y0 = np.random.randint(0, height - crop_height)\n",
    "    x1 = x0 + crop_width\n",
    "    y1 = y0 + crop_height\n",
    "    #print(x0,y0)\n",
    "    image = image[y0:y1, x0:x1]\n",
    "    \n",
    "    ### 50% to flip flip right to left flip left to right\n",
    "    if np.random.rand() < 0.5:\n",
    "        image = np.fliplr(image)\n",
    "    \n",
    "    image = scipy.misc.imresize(image,(target_height,target_width))\n",
    "    image = cv2.GaussianBlur(image,(3,3),0)\n",
    "    image = (image/255.) #* 2) - 1\n",
    "    \n",
    "    return image"
   ]
  },
  {
   "cell_type": "code",
   "execution_count": null,
   "metadata": {},
   "outputs": [],
   "source": [
    "for idx, rows in df_train.iterrows():\n",
    "    path = df_train.path[idx]\n",
    "    img = Image.open(path)\n",
    "    img.save(df_train.path[idx], dpi=(300, 300))"
   ]
  },
  {
   "cell_type": "code",
   "execution_count": null,
   "metadata": {},
   "outputs": [],
   "source": [
    "for idx, rows in df_train.iterrows():\n",
    "    path = df_train.path[idx]\n",
    "    orig_img = cv2.imread(path)\n",
    "    aug_img = augmentation(orig_img)\n",
    "    aug_img = aug_img*255.\n",
    "    cv2.imwrite(df_train.path[idx], aug_img)"
   ]
  },
  {
   "cell_type": "code",
   "execution_count": null,
   "metadata": {},
   "outputs": [],
   "source": [
    "for idx, rows in df_test.iterrows():\n",
    "    path = df_test.path[idx]\n",
    "    img = Image.open(path)\n",
    "    img.save(df_test.path[idx], dpi=(300, 300))"
   ]
  },
  {
   "cell_type": "code",
   "execution_count": null,
   "metadata": {},
   "outputs": [],
   "source": [
    "for idx, rows in df_test.iterrows():\n",
    "    path = df_test.path[idx]\n",
    "    orig_img = cv2.imread(path)\n",
    "    aug_img = augmentation(orig_img)\n",
    "    aug_img = aug_img*255.\n",
    "    cv2.imwrite(df_test.path[idx], aug_img)"
   ]
  },
  {
   "cell_type": "code",
   "execution_count": null,
   "metadata": {},
   "outputs": [],
   "source": [
    "'''\n",
    "path = 'C:\\\\Users\\\\Suryam Sharma\\\\MonkeyIdentification\\\\'\n",
    "img = cv2.imread(path+'3.jpg')\n",
    "aug_img = augmentation(img)\n",
    "aug_img = aug_img*255.\n",
    "cv2.imwrite(path+'out9.jpg', aug_img)\n",
    "'''"
   ]
  },
  {
   "cell_type": "markdown",
   "metadata": {},
   "source": [
    "-----------------------------------------------------------------------------------------------------------------------------------------------\n",
    "\n",
    "<br>\n"
   ]
  },
  {
   "cell_type": "markdown",
   "metadata": {},
   "source": [
    "<br>\n",
    "\n",
    "*Display sample augmented image*"
   ]
  },
  {
   "cell_type": "code",
   "execution_count": 9,
   "metadata": {},
   "outputs": [
    {
     "data": {
      "image/png": "[encoded data removed]",
      "text/plain": [
       "<Figure size 432x288 with 1 Axes>"
      ]
     },
     "metadata": {
      "needs_background": "light"
     },
     "output_type": "display_data"
    }
   ],
   "source": [
    "plt.imshow(cv2.imread(df_train.path[161], 0), 'gray')\n",
    "plt.show()"
   ]
  },
  {
   "cell_type": "markdown",
   "metadata": {},
   "source": [
    "<br>\n",
    "\n",
    "*Now we need to flatten these 299x299x3 RGB image into 1-D array*<br>\n",
    "*We'll now complete our dataframe, by adding flattened augmented images*"
   ]
  },
  {
   "cell_type": "code",
   "execution_count": null,
   "metadata": {},
   "outputs": [],
   "source": [
    "#Skip this!\n",
    "\n",
    "'''\n",
    "df_train['flat_img'] = \"\"\n",
    "for idx, row in df_train.iterrows():\n",
    "    image = cv2.imread(df_train.path[idx], -1)\n",
    "    image_flatten = np.reshape(image, [-1])\n",
    "    image_flatten = image_flatten/255.\n",
    "    df_train.flat_img[idx] = image_flatten\n",
    "    \n",
    "df_train.head(4)\n",
    "'''"
   ]
  },
  {
   "cell_type": "markdown",
   "metadata": {},
   "source": [
    "<br>\n",
    "\n",
    "*Let's start by creating numpy arrays of training and test data...*"
   ]
  },
  {
   "cell_type": "markdown",
   "metadata": {},
   "source": [
    "\n",
    "1) *Using the above training Dataframe, we'll create a numpy array 'train_x' using flattened images* <br>\n",
    "2) *We'll also convert training labels to one hot matrix 'train_y*"
   ]
  },
  {
   "cell_type": "code",
   "execution_count": 9,
   "metadata": {},
   "outputs": [],
   "source": [
    "global train_x\n",
    "train_x = np.empty((1, 270000))"
   ]
  },
  {
   "cell_type": "code",
   "execution_count": null,
   "metadata": {},
   "outputs": [],
   "source": [
    "#Skip this!\n",
    "'''\n",
    "for idx, row in df_train.iterrows():\n",
    "    train_x = np.vstack((train_x, np.array((df_train.flat_img[idx]))))\n",
    "'''"
   ]
  },
  {
   "cell_type": "code",
   "execution_count": 10,
   "metadata": {},
   "outputs": [],
   "source": [
    "for idx, row in df_train.iterrows():\n",
    "    image = cv2.imread(df_train.path[idx], -1)\n",
    "    image_flatten = np.reshape(image, [-1])\n",
    "    image_flatten = image_flatten/255.\n",
    "    train_x = np.vstack((train_x, image_flatten))"
   ]
  },
  {
   "cell_type": "code",
   "execution_count": 11,
   "metadata": {},
   "outputs": [],
   "source": [
    "train_x = train_x[1:]\n",
    "train_x = train_x.T\n"
   ]
  },
  {
   "cell_type": "code",
   "execution_count": 12,
   "metadata": {},
   "outputs": [
    {
     "name": "stdout",
     "output_type": "stream",
     "text": [
      "[[0.15294118 0.15294118 0.31372549 ... 0.38039216 0.55294118 0.81960784]\n",
      " [0.36862745 0.34509804 0.74901961 ... 0.67843137 0.65490196 0.85490196]\n",
      " [0.39607843 0.26666667 0.6627451  ... 0.54509804 0.71764706 0.84313725]\n",
      " ...\n",
      " [0.07058824 0.54901961 0.29411765 ... 0.16862745 0.34901961 0.14117647]\n",
      " [0.45098039 0.89019608 0.85098039 ... 0.35294118 0.43137255 0.33333333]\n",
      " [0.49019608 0.85098039 0.5254902  ... 0.31764706 0.41960784 0.34117647]]\n",
      "\n",
      " Shape: (270000, 1096)\n"
     ]
    }
   ],
   "source": [
    "print(train_x)\n",
    "print('\\n', \"Shape:\", train_x.shape)"
   ]
  },
  {
   "cell_type": "code",
   "execution_count": 13,
   "metadata": {},
   "outputs": [],
   "source": [
    "global test_x\n",
    "test_x = np.empty((1, 270000))"
   ]
  },
  {
   "cell_type": "code",
   "execution_count": 14,
   "metadata": {},
   "outputs": [],
   "source": [
    "for idx, row in df_test.iterrows():\n",
    "    image = cv2.imread(df_test.path[idx], -1)\n",
    "    image_flatten = np.reshape(image, [-1])\n",
    "    image_flatten = image_flatten/255.\n",
    "    test_x = np.vstack((test_x, image_flatten))"
   ]
  },
  {
   "cell_type": "code",
   "execution_count": 15,
   "metadata": {},
   "outputs": [],
   "source": [
    "test_x = test_x[1:]\n",
    "test_x = test_x.T"
   ]
  },
  {
   "cell_type": "code",
   "execution_count": 16,
   "metadata": {},
   "outputs": [
    {
     "name": "stdout",
     "output_type": "stream",
     "text": [
      "[[0.4627451  0.11372549 0.47058824 ... 0.03529412 0.19215686 0.41176471]\n",
      " [0.65490196 0.30980392 0.64313725 ... 0.33333333 0.29411765 0.87058824]\n",
      " [0.45882353 0.39607843 0.52156863 ... 0.2        0.23137255 0.74901961]\n",
      " ...\n",
      " [0.01176471 0.24313725 0.3372549  ... 0.30980392 0.98823529 0.36470588]\n",
      " [0.76078431 0.41176471 0.60784314 ... 0.6        0.99215686 0.45098039]\n",
      " [0.52156863 0.4        0.43921569 ... 0.41176471 0.98431373 0.40392157]]\n",
      "\n",
      " Shape: (270000, 272)\n"
     ]
    }
   ],
   "source": [
    "print(test_x)\n",
    "print('\\n', \"Shape:\", test_x.shape)"
   ]
  },
  {
   "cell_type": "markdown",
   "metadata": {},
   "source": [
    "<br>\n",
    "\n",
    "*Defining one hot matrix*"
   ]
  },
  {
   "cell_type": "code",
   "execution_count": 17,
   "metadata": {},
   "outputs": [],
   "source": [
    "def convert_to_one_hot(Y, C):\n",
    "    Y = np.eye(C)[Y.reshape(-1)].T\n",
    "    return Y"
   ]
  },
  {
   "cell_type": "code",
   "execution_count": 18,
   "metadata": {},
   "outputs": [],
   "source": [
    "global train_y"
   ]
  },
  {
   "cell_type": "code",
   "execution_count": 19,
   "metadata": {},
   "outputs": [],
   "source": [
    "train_y_orig = np.array(df_train.label)\n",
    "train_y = np.empty((1096), dtype=np.int8)\n",
    "labels = np.empty((1), dtype=np.int8)\n",
    "for label in train_y_orig:\n",
    "    label = label[1]\n",
    "    labels = np.append(labels, int(label))\n",
    "labels = labels[1:]\n",
    "train_y = np.vstack((train_y, labels))\n",
    "train_y = train_y[1:]\n",
    "train_y = convert_to_one_hot(train_y, 10)"
   ]
  },
  {
   "cell_type": "code",
   "execution_count": 20,
   "metadata": {},
   "outputs": [
    {
     "name": "stdout",
     "output_type": "stream",
     "text": [
      "[[1. 1. 1. ... 0. 0. 0.]\n",
      " [0. 0. 0. ... 0. 0. 0.]\n",
      " [0. 0. 0. ... 0. 0. 0.]\n",
      " ...\n",
      " [0. 0. 0. ... 0. 0. 0.]\n",
      " [0. 0. 0. ... 0. 0. 0.]\n",
      " [0. 0. 0. ... 1. 1. 1.]]\n",
      "\n",
      " Shape: (10, 1096)\n"
     ]
    }
   ],
   "source": [
    "print(train_y)\n",
    "print('\\n', \"Shape:\", train_y.shape)"
   ]
  },
  {
   "cell_type": "code",
   "execution_count": 21,
   "metadata": {},
   "outputs": [],
   "source": [
    "global test_y"
   ]
  },
  {
   "cell_type": "code",
   "execution_count": 22,
   "metadata": {},
   "outputs": [],
   "source": [
    "test_y_orig = np.array(df_test.label)\n",
    "test_y = np.empty((272), dtype=np.int8)\n",
    "labels = np.empty((1), dtype=np.int8)\n",
    "for label in test_y_orig:\n",
    "    label = label[1]\n",
    "    labels = np.append(labels, int(label))\n",
    "labels = labels[1:]\n",
    "test_y = np.vstack((test_y, labels))\n",
    "test_y = test_y[1:]\n",
    "test_y = convert_to_one_hot(test_y, 10)"
   ]
  },
  {
   "cell_type": "code",
   "execution_count": 23,
   "metadata": {},
   "outputs": [
    {
     "name": "stdout",
     "output_type": "stream",
     "text": [
      "[[1. 1. 1. ... 0. 0. 0.]\n",
      " [0. 0. 0. ... 0. 0. 0.]\n",
      " [0. 0. 0. ... 0. 0. 0.]\n",
      " ...\n",
      " [0. 0. 0. ... 0. 0. 0.]\n",
      " [0. 0. 0. ... 0. 0. 0.]\n",
      " [0. 0. 0. ... 1. 1. 1.]]\n",
      "\n",
      " Shape: (10, 272)\n"
     ]
    }
   ],
   "source": [
    "print(test_y)\n",
    "print('\\n', \"Shape:\", test_y.shape)"
   ]
  },
  {
   "cell_type": "markdown",
   "metadata": {},
   "source": [
    "<br>\n",
    "\n",
    "*We'll now create placeholders for X and Y. This will allow us to later pass our training data in, when we run our session.*"
   ]
  },
  {
   "cell_type": "code",
   "execution_count": 24,
   "metadata": {},
   "outputs": [],
   "source": [
    "def create_placeholders(n_x, n_y):\n",
    "\n",
    "#    Creates the placeholders for the tensorflow session.\n",
    "    \n",
    "#    Arguments:\n",
    "#    n_x -- scalar, size of an image vector (num_px * num_px = 300 * 300 * 3 = 270000)\n",
    "#    n_y -- scalar, number of classes (from 0 to 9, so -> 10)\n",
    "    \n",
    "#    Returns:\n",
    "#    X -- placeholder for the data input, of shape [n_x, None] and dtype \"float\"\n",
    "#    Y -- placeholder for the input labels, of shape [n_y, None] and dtype \"float\"\n",
    "\n",
    "    X = tf.placeholder(tf.float32,shape= (n_x,None))\n",
    "    Y = tf.placeholder(tf.float32,shape= (n_y,None))\n",
    "    \n",
    "    return X, Y"
   ]
  },
  {
   "cell_type": "code",
   "execution_count": 25,
   "metadata": {},
   "outputs": [
    {
     "name": "stdout",
     "output_type": "stream",
     "text": [
      "X = Tensor(\"Placeholder:0\", shape=(270000, ?), dtype=float32)\n",
      "Y = Tensor(\"Placeholder_1:0\", shape=(10, ?), dtype=float32)\n"
     ]
    }
   ],
   "source": [
    "X, Y = create_placeholders(270000, 10)\n",
    "print (\"X = \" + str(X))\n",
    "print (\"Y = \" + str(Y))"
   ]
  },
  {
   "cell_type": "markdown",
   "metadata": {},
   "source": [
    "<br>\n",
    "\n",
    "**Initializing the parameters**<br>\n",
    "*We'll be using Xavier Initialization for weights and Zero Initialization for biases.*"
   ]
  },
  {
   "cell_type": "code",
   "execution_count": 26,
   "metadata": {},
   "outputs": [],
   "source": [
    "def initialize_parameters():\n",
    "    \"\"\"\n",
    "    Initializes parameters to build a neural network with tensorflow. The shapes are:\n",
    "                        W1 : [1024, 270000]\n",
    "                        b1 : [1024, 1]\n",
    "                        W2 : [256, 1024]\n",
    "                        b2 : [256, 1]\n",
    "                        W3 : [64, 256]\n",
    "                        b3 : [64, 1]\n",
    "                        W4 : [16, 64]\n",
    "                        b4 : [16, 1]\n",
    "                        W5 : [10, 16]\n",
    "                        b5 : [10, 1]\n",
    "    \n",
    "    Returns:\n",
    "    parameters -- a dictionary of tensors containing W1, b1, W2, b2, W3, b3, W4, b4\n",
    "    \"\"\"\n",
    "    \n",
    "    tf.set_random_seed(1)                   # so that your \"random\" numbers match ours\n",
    "        \n",
    "    W1 = tf.get_variable(\"W1\", [1024, 270000], initializer=tf.contrib.layers.xavier_initializer(seed=1))\n",
    "    b1 = tf.get_variable(\"b1\", [1024,1], initializer=tf.zeros_initializer())\n",
    "    W2 = tf.get_variable(\"W2\", [256,1024], initializer=tf.contrib.layers.xavier_initializer(seed=1))\n",
    "    b2 = tf.get_variable(\"b2\", [256,1], initializer=tf.zeros_initializer())\n",
    "    W3 = tf.get_variable(\"W3\", [64,256], initializer=tf.contrib.layers.xavier_initializer(seed=1))\n",
    "    b3 = tf.get_variable(\"b3\", [64,1], initializer=tf.zeros_initializer())\n",
    "    W4 = tf.get_variable(\"W4\", [16,64], initializer=tf.contrib.layers.xavier_initializer(seed=1))\n",
    "    b4 = tf.get_variable(\"b4\", [16,1], initializer=tf.zeros_initializer())\n",
    "    W5 = tf.get_variable(\"W5\", [10,16], initializer=tf.contrib.layers.xavier_initializer(seed=1))\n",
    "    b5 = tf.get_variable(\"b5\", [10,1], initializer=tf.zeros_initializer())\n",
    "\n",
    "    parameters = {\"W1\": W1,\n",
    "                  \"b1\": b1,\n",
    "                  \"W2\": W2,\n",
    "                  \"b2\": b2,\n",
    "                  \"W3\": W3,\n",
    "                  \"b3\": b3,\n",
    "                  \"W4\": W4,\n",
    "                  \"b4\": b4,\n",
    "                  \"W5\": W5,\n",
    "                  \"b5\": b5\n",
    "                 }\n",
    "    \n",
    "    return parameters"
   ]
  },
  {
   "cell_type": "markdown",
   "metadata": {},
   "source": [
    "<br>\n",
    "\n",
    "**Forward Propogation**<br>\n",
    "*The function will take in a dictionary of parameters and it will complete the forward pass.*"
   ]
  },
  {
   "cell_type": "code",
   "execution_count": 27,
   "metadata": {},
   "outputs": [],
   "source": [
    "def forward_propagation(X, parameters):\n",
    "    \"\"\"\n",
    "    Implements the forward propagation for the model: LINEAR -> RELU -> LINEAR -> RELU -> LINEAR -> SOFTMAX\n",
    "    \n",
    "    Arguments:\n",
    "    X -- input dataset placeholder, of shape (input size, number of examples)\n",
    "    parameters -- python dictionary containing your parameters \"W1\", \"b1\", \"W2\", \"b2\", \"W3\", \"b3\", \"W4\", \"b4\", \"W5\" & \"b5\"\n",
    "                  the shapes are given in initialize_parameters\n",
    "\n",
    "    Returns:\n",
    "    Z5 -- the output of the last LINEAR unit\n",
    "    \"\"\"\n",
    "    should_drop = tf.placeholder(tf.bool)\n",
    "    \n",
    "    # Retrieve the parameters from the dictionary \"parameters\" \n",
    "    W1 = parameters['W1']\n",
    "    b1 = parameters['b1']\n",
    "    W2 = parameters['W2']\n",
    "    b2 = parameters['b2']\n",
    "    W3 = parameters['W3']\n",
    "    b3 = parameters['b3']\n",
    "    W4 = parameters['W4']\n",
    "    b4 = parameters['b4']\n",
    "    W5 = parameters['W5']\n",
    "    b5 = parameters['b5']\n",
    "\n",
    "    \n",
    "                                                                    # Numpy Equivalents:\n",
    "    Z1 = tf.add(tf.matmul(W1,X),b1)                                 # Z1 = np.dot(W1, X) + b1\n",
    "    A1 = tf.nn.relu(Z1)                                             # A1 = relu(Z1)\n",
    "    A1 = tf.contrib.layers.dropout(A1, keep_prob=0.6, is_training=True, seed=np.random.seed(1))         # Dropout 50% nodes \n",
    "    \n",
    "    Z2 = tf.add(tf.matmul(W2,A1),b2)                                # Z2 = np.dot(W2, a1) + b2\n",
    "    A2 = tf.nn.relu(Z2)                                             # A2 = relu(Z2)\n",
    "    A2 = tf.contrib.layers.dropout(A2, keep_prob=0.8, is_training=True, seed=np.random.seed(1))         # Dropout 20% nodes\n",
    "    \n",
    "    Z3 = tf.add(tf.matmul(W3,A2),b3)                                # Z3 = np.dot(W3,a2) + b3\n",
    "    A3 = tf.nn.relu(Z3)                                             # A3 = relu(Z3)\n",
    "    A3 = tf.contrib.layers.dropout(A3, keep_prob=0.9, is_training=True, seed=np.random.seed(1))         # Dropout 10% nodes\n",
    "    \n",
    "    Z4 = tf.add(tf.matmul(W4,A3),b4)                                # Z4 = np.dot(W4,a3) + b4\n",
    "    A4 = tf.nn.relu(Z4)                                             # A4 = relu(Z4)\n",
    "    \n",
    "    Z5 = tf.add(tf.matmul(W5,A4),b5)                                # Z5 = np.dot(W5,a4) + b5\n",
    "    \n",
    "    return Z5"
   ]
  },
  {
   "cell_type": "markdown",
   "metadata": {},
   "source": [
    "<br>\n",
    "\n",
    "**Compute Cost**"
   ]
  },
  {
   "cell_type": "code",
   "execution_count": 28,
   "metadata": {},
   "outputs": [],
   "source": [
    "def compute_cost(Z5, Y):\n",
    "    \"\"\"\n",
    "    Computes the cost\n",
    "    \n",
    "    Arguments:\n",
    "    Z5 -- output of forward propagation (output of the last LINEAR unit), of shape (10, number of examples)\n",
    "    Y -- \"true\" labels vector placeholder, same shape as Z5\n",
    "    \n",
    "    Returns:\n",
    "    cost - Tensor of the cost function\n",
    "    \"\"\"\n",
    "    \n",
    "    # to fit the tensorflow requirement for tf.nn.softmax_cross_entropy_with_logits(...,...)\n",
    "    logits = tf.transpose(Z5)\n",
    "    labels = tf.transpose(Y)\n",
    "    \n",
    "    cost = tf.reduce_mean(tf.nn.softmax_cross_entropy_with_logits(logits =logits, labels =labels))\n",
    "\n",
    "    \n",
    "    return cost"
   ]
  },
  {
   "cell_type": "markdown",
   "metadata": {},
   "source": [
    "<br>\n",
    "\n",
    "**Importing Random Mini Batches from: *tf_utils*** "
   ]
  },
  {
   "cell_type": "code",
   "execution_count": 29,
   "metadata": {},
   "outputs": [],
   "source": [
    "def random_mini_batches(X, Y, mini_batch_size, seed):\n",
    "    \"\"\"\n",
    "    Creates a list of random minibatches from (X, Y)\n",
    "    \n",
    "    Arguments:\n",
    "    X -- input data, of shape (input size, number of examples)\n",
    "    Y -- true \"label\" vector, of shape (1, number of examples)\n",
    "    mini_batch_size - size of the mini-batches, integer\n",
    "    seed -- this is only for the purpose of grading, so that you're \"random minibatches are the same as ours.\n",
    "    \n",
    "    Returns:\n",
    "    mini_batches -- list of synchronous (mini_batch_X, mini_batch_Y)\n",
    "    \"\"\"\n",
    "    \n",
    "    m = X.shape[1]                  # number of training examples\n",
    "    mini_batches = []\n",
    "    np.random.seed(seed)\n",
    "    \n",
    "    # Step 1: Shuffle (X, Y)\n",
    "    permutation = list(np.random.permutation(m))\n",
    "    shuffled_X = X[:, permutation]\n",
    "    shuffled_Y = Y[:, permutation].reshape((Y.shape[0],m))\n",
    "\n",
    "    # Step 2: Partition (shuffled_X, shuffled_Y). Minus the end case.\n",
    "    num_complete_minibatches = math.floor(m/mini_batch_size) # number of mini batches of size mini_batch_size in your partitionning\n",
    "    for k in range(0, num_complete_minibatches):\n",
    "        mini_batch_X = shuffled_X[:, k * mini_batch_size : k * mini_batch_size + mini_batch_size]\n",
    "        mini_batch_Y = shuffled_Y[:, k * mini_batch_size : k * mini_batch_size + mini_batch_size]\n",
    "        mini_batch = (mini_batch_X, mini_batch_Y)\n",
    "        mini_batches.append(mini_batch)\n",
    "    \n",
    "    # Handling the end case (last mini-batch < mini_batch_size)\n",
    "    if m % mini_batch_size != 0:\n",
    "        mini_batch_X = shuffled_X[:, num_complete_minibatches * mini_batch_size : m]\n",
    "        mini_batch_Y = shuffled_Y[:, num_complete_minibatches * mini_batch_size : m]\n",
    "        mini_batch = (mini_batch_X, mini_batch_Y)\n",
    "        mini_batches.append(mini_batch)\n",
    "    \n",
    "    return mini_batches"
   ]
  },
  {
   "cell_type": "markdown",
   "metadata": {},
   "source": [
    "<br>\n",
    "\n",
    "**Model**"
   ]
  },
  {
   "cell_type": "code",
   "execution_count": 33,
   "metadata": {},
   "outputs": [],
   "source": [
    "def model(X_train, Y_train, X_test, Y_test, num_epochs = 1500, minibatch_size = 32, learning_rate = 0.0001, print_cost = True):\n",
    "    \"\"\"\n",
    "    Implements a four-layer tensorflow neural network: LINEAR->RELU->LINEAR->RELU->LINEAR->RELU->LINEAR->SOFTMAX.\n",
    "    \n",
    "    Arguments:\n",
    "    X_train -- training set, of shape (input size = 270000, number of training examples = 1096)\n",
    "    Y_train -- test set, of shape (output size = 10, number of training examples = 1096)\n",
    "    X_test -- training set, of shape (input size = 270000, number of training examples = 272)\n",
    "    Y_test -- test set, of shape (output size = 10, number of test examples = 272)\n",
    "    learning_rate -- learning rate of the optimization\n",
    "    num_epochs -- number of epochs of the optimization loop\n",
    "    minibatch_size -- size of a minibatch\n",
    "    print_cost -- True to print the cost every 100 epochs\n",
    "    \n",
    "    Returns:\n",
    "    parameters -- parameters learnt by the model. They can then be used to predict.\n",
    "    \"\"\"\n",
    "    ops.reset_default_graph()                         # to be able to rerun the model without overwriting tf variables\n",
    "    tf.set_random_seed(1)                             # to keep consistent results\n",
    "    seed = 3                                          # to keep consistent results\n",
    "    (n_x, m) = X_train.shape                          # (n_x: input size, m : number of examples in the train set)\n",
    "    n_y = Y_train.shape[0]                            # n_y : output size\n",
    "    costs = []                                        # To keep track of the cost\n",
    "    \n",
    "    # Create Placeholders of shape (n_x, n_y)\n",
    "    X, Y = create_placeholders(n_x, n_y)\n",
    "\n",
    "\n",
    "    # Initialize parameters\n",
    "    parameters = initialize_parameters()\n",
    "\n",
    "    \n",
    "    # Forward propagation: Build the forward propagation in the tensorflow graph\n",
    "    Z5 = forward_propagation(X, parameters)\n",
    "\n",
    "    \n",
    "    # Cost function: Add cost function to tensorflow graph\n",
    "    cost = compute_cost(Z5,Y)\n",
    "\n",
    "    \n",
    "    # Backpropagation: Define the tensorflow optimizer. Use an AdamOptimizer.\n",
    "    optimizer = tf.train.GradientDescentOptimizer(learning_rate = learning_rate).minimize(cost)\n",
    "\n",
    "    \n",
    "    # Initialize all the variables\n",
    "    init = tf.global_variables_initializer()\n",
    "\n",
    "    # Start the session to compute the tensorflow graph\n",
    "    with tf.Session() as sess:\n",
    "        \n",
    "        # Run the initialization\n",
    "        sess.run(init)\n",
    "        \n",
    "        # Do the training loop\n",
    "        for epoch in range(num_epochs):\n",
    "\n",
    "            epoch_cost = 0.                       # Defines a cost related to an epoch\n",
    "            num_minibatches = int(m / minibatch_size) # number of minibatches of size minibatch_size in the train set\n",
    "            seed = seed + 1\n",
    "            minibatches = random_mini_batches(X_train, Y_train, minibatch_size, seed)\n",
    "\n",
    "            for minibatch in minibatches:\n",
    "\n",
    "                # Select a minibatch\n",
    "                (minibatch_X, minibatch_Y) = minibatch\n",
    "                \n",
    "                # IMPORTANT: The line that runs the graph on a minibatch.\n",
    "                # Run the session to execute the \"optimizer\" and the \"cost\", the feedict should contain a minibatch for (X,Y).\n",
    "                _ , minibatch_cost = sess.run([optimizer, cost], feed_dict={X: minibatch_X, Y: minibatch_Y})\n",
    "                \n",
    "                epoch_cost += minibatch_cost / num_minibatches\n",
    "\n",
    "            # Print the cost every epoch\n",
    "            if print_cost == True and epoch % 100 == 0:\n",
    "                print (\"Cost after epoch %i: %f\" % (epoch, epoch_cost))\n",
    "            if print_cost == True and epoch % 5 == 0:\n",
    "                costs.append(epoch_cost)\n",
    "                \n",
    "        # plot the cost\n",
    "        plt.plot(np.squeeze(costs))\n",
    "        plt.ylabel('cost')\n",
    "        plt.xlabel('iterations (per tens)')\n",
    "        plt.title(\"Learning rate =\" + str(learning_rate))\n",
    "        plt.show()\n",
    "\n",
    "        # lets save the parameters in a variable\n",
    "        parameters = sess.run(parameters)\n",
    "        print (\"Parameters have been trained!\")\n",
    "\n",
    "        # Calculate the correct predictions\n",
    "        correct_prediction = tf.equal(tf.argmax(Z5), tf.argmax(Y))\n",
    "\n",
    "        # Calculate accuracy on the test set\n",
    "        accuracy = tf.reduce_mean(tf.cast(correct_prediction, \"float\"))\n",
    "\n",
    "        print (\"Train Accuracy:\", accuracy.eval({X: X_train, Y: Y_train}))\n",
    "        print (\"Test Accuracy:\", accuracy.eval({X: X_test, Y: Y_test}))\n",
    "        \n",
    "        return parameters"
   ]
  },
  {
   "cell_type": "markdown",
   "metadata": {},
   "source": [
    "<br>\n",
    "\n",
    "**Let the training begin!!**"
   ]
  },
  {
   "cell_type": "code",
   "execution_count": 34,
   "metadata": {},
   "outputs": [
    {
     "name": "stdout",
     "output_type": "stream",
     "text": [
      "Cost after epoch 0: 2.410493\n",
      "Cost after epoch 100: 1.776016\n",
      "Cost after epoch 200: 1.382573\n",
      "Cost after epoch 300: 1.037057\n",
      "Cost after epoch 400: 0.753642\n",
      "Cost after epoch 500: 0.570711\n",
      "Cost after epoch 600: 0.458374\n",
      "Cost after epoch 700: 0.325791\n",
      "Cost after epoch 800: 0.244216\n",
      "Cost after epoch 900: 0.198226\n",
      "Cost after epoch 1000: 0.169391\n",
      "Cost after epoch 1100: 0.140691\n",
      "Cost after epoch 1200: 0.111528\n",
      "Cost after epoch 1300: 0.093380\n",
      "Cost after epoch 1400: 0.092628\n"
     ]
    },
    {
     "data": {
      "image/png": "[encoded data removed]",
      "text/plain": [
       "<Figure size 432x288 with 1 Axes>"
      ]
     },
     "metadata": {
      "needs_background": "light"
     },
     "output_type": "display_data"
    },
    {
     "name": "stdout",
     "output_type": "stream",
     "text": [
      "Parameters have been trained!\n",
      "Train Accuracy: 0.99270076\n",
      "Test Accuracy: 0.40441176\n"
     ]
    }
   ],
   "source": [
    "parameters = model(train_x, train_y, test_x, test_y)"
   ]
  },
  {
   "cell_type": "markdown",
   "metadata": {},
   "source": [
    "<br>\n",
    "\n",
    "**Predicting**"
   ]
  },
  {
   "cell_type": "code",
   "execution_count": 41,
   "metadata": {},
   "outputs": [],
   "source": [
    "def predict(X, parameters):\n",
    "    \n",
    "    W1 = tf.convert_to_tensor(parameters[\"W1\"])\n",
    "    b1 = tf.convert_to_tensor(parameters[\"b1\"])\n",
    "    W2 = tf.convert_to_tensor(parameters[\"W2\"])\n",
    "    b2 = tf.convert_to_tensor(parameters[\"b2\"])\n",
    "    W3 = tf.convert_to_tensor(parameters[\"W3\"])\n",
    "    b3 = tf.convert_to_tensor(parameters[\"b3\"])\n",
    "    W4 = tf.convert_to_tensor(parameters[\"W4\"])\n",
    "    b4 = tf.convert_to_tensor(parameters[\"b4\"])\n",
    "    W5 = tf.convert_to_tensor(parameters[\"W5\"])\n",
    "    b5 = tf.convert_to_tensor(parameters[\"b5\"])\n",
    "    \n",
    "    params = {\"W1\": W1,\n",
    "              \"b1\": b1,\n",
    "              \"W2\": W2,\n",
    "              \"b2\": b2,\n",
    "              \"W3\": W3,\n",
    "              \"b3\": b3,\n",
    "              \"W4\": W4,\n",
    "              \"b4\": b4,\n",
    "              \"W5\": W5,\n",
    "              \"b5\": b5}\n",
    "    \n",
    "    \n",
    "    x = tf.placeholder(\"float\", [270000, 1])\n",
    "    \n",
    "    z5 = forward_propagation_for_predict(x, params)\n",
    "    p = tf.argmax(z5)\n",
    "    \n",
    "    sess = tf.Session()\n",
    "    prediction = sess.run(p, feed_dict = {x: X})\n",
    "        \n",
    "    return prediction"
   ]
  },
  {
   "cell_type": "code",
   "execution_count": 42,
   "metadata": {},
   "outputs": [],
   "source": [
    "def forward_propagation_for_predict(X, parameters):\n",
    "    \"\"\"\n",
    "    Implements the forward propagation for the model: LINEAR -> RELU -> LINEAR -> RELU -> LINEAR -> SOFTMAX\n",
    "    \n",
    "    Arguments:\n",
    "    X -- input dataset placeholder, of shape (input size, number of examples)\n",
    "    parameters -- python dictionary containing your parameters \"W1\", \"b1\", \"W2\", \"b2\", \"W3\", \"b3\"\n",
    "                  the shapes are given in initialize_parameters\n",
    "    Returns:\n",
    "    Z3 -- the output of the last LINEAR unit\n",
    "    \"\"\"\n",
    "    \n",
    "    # Retrieve the parameters from the dictionary \"parameters\" \n",
    "    W1 = parameters['W1']\n",
    "    b1 = parameters['b1']\n",
    "    W2 = parameters['W2']\n",
    "    b2 = parameters['b2']\n",
    "    W3 = parameters['W3']\n",
    "    b3 = parameters['b3'] \n",
    "    W4 = parameters['W4']\n",
    "    b4 = parameters['b4']\n",
    "    W5 = parameters['W5']\n",
    "    b5 = parameters['b5']\n",
    "                                                           # Numpy Equivalents:\n",
    "    Z1 = tf.add(tf.matmul(W1, X), b1)                      # Z1 = np.dot(W1, X) + b1\n",
    "    A1 = tf.nn.relu(Z1)                                    # A1 = relu(Z1)\n",
    "    Z2 = tf.add(tf.matmul(W2, A1), b2)                     # Z2 = np.dot(W2, a1) + b2\n",
    "    A2 = tf.nn.relu(Z2)                                    # A2 = relu(Z2)\n",
    "    Z3 = tf.add(tf.matmul(W3, A2), b3)                     # Z3 = np.dot(W3,Z2) + b3\n",
    "    A3 = tf.nn.relu(Z3)                                    # A2 = relu(Z2)\n",
    "    Z4 = tf.add(tf.matmul(W4, A3), b4)                     # Z4 = np.dot(W4,Z3) + b4\n",
    "    A4 = tf.nn.relu(Z4)                                    # A2 = relu(Z2)\n",
    "    Z5 = tf.add(tf.matmul(W5, A4), b5)                     # Z4 = np.dot(W4,Z3) + b4\n",
    "    \n",
    "    return Z5"
   ]
  },
  {
   "cell_type": "markdown",
   "metadata": {},
   "source": [
    "<br>\n",
    "\n",
    "*Visualizing prediction results*"
   ]
  },
  {
   "cell_type": "code",
   "execution_count": 37,
   "metadata": {},
   "outputs": [],
   "source": [
    "global xtest\n",
    "xtest = np.empty((1, 270000))"
   ]
  },
  {
   "cell_type": "code",
   "execution_count": 38,
   "metadata": {},
   "outputs": [],
   "source": [
    "for idx, row in df_test.iterrows():\n",
    "    image = cv2.imread(df_test.path[idx], -1)\n",
    "    image_flatten = np.reshape(image, [-1])\n",
    "    image_flatten = image_flatten/255.\n",
    "    xtest = np.vstack((np.array((xtest)), image_flatten))"
   ]
  },
  {
   "cell_type": "code",
   "execution_count": 46,
   "metadata": {},
   "outputs": [],
   "source": [
    "xtest = xtest[1:]"
   ]
  },
  {
   "cell_type": "code",
   "execution_count": null,
   "metadata": {},
   "outputs": [],
   "source": [
    "df_test['pred_label']=\"\"\n",
    "for idx, rows in df_test.iterrows():\n",
    "    test_img = np.array([xtest[idx]])\n",
    "    y_pred = predict(test_img.T, parameters)\n",
    "    df_test.pred_label[idx] = 'n'+str(np.squeeze(y_pred))\n",
    "df_test.head(4)"
   ]
  },
  {
   "cell_type": "code",
   "execution_count": null,
   "metadata": {},
   "outputs": [],
   "source": [
    "'''\n",
    "count=0\n",
    "for idx, rows in df_test.iterrows():\n",
    "    if (df_test.label[idx] == df_test.pred_label[idx]):\n",
    "        count = count + 1\n",
    "print('Accuracy: ')\n",
    "'''"
   ]
  }
 ],
 "metadata": {
  "kernelspec": {
   "display_name": "Python 3",
   "language": "python",
   "name": "python3"
  },
  "language_info": {
   "codemirror_mode": {
    "name": "ipython",
    "version": 3
   },
   "file_extension": ".py",
   "mimetype": "text/x-python",
   "name": "python",
   "nbconvert_exporter": "python",
   "pygments_lexer": "ipython3",
   "version": "3.6.7"
  }
 },
 "nbformat": 4,
 "nbformat_minor": 2
}
